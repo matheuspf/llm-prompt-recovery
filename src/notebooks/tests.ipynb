{
 "cells": [
  {
   "cell_type": "code",
   "execution_count": 5,
   "metadata": {},
   "outputs": [
    {
     "data": {
      "text/plain": [
       "170"
      ]
     },
     "execution_count": 5,
     "metadata": {},
     "output_type": "execute_result"
    }
   ],
   "source": [
    "from nltk.corpus import wordnet as wn\n",
    "\n",
    "# List of words provided by the user\n",
    "words = [\n",
    "    \"reword\", \"modify\", \"rewrite\", \"convey\", \"exude\", \"rephrase\", \"text\", \"better\", \"lucrarea\", \n",
    "    \"tone\", \"style\", \"discours\", \"involving\", \"creatively\", \"detail\", \"write\", \"this\", \"emulate\",\n",
    "    \"casually\", \"sender\", \"recompose\", \"text\", \"moved\", \"genre\", \"evokes\", \"recreate\", \"reword\",\n",
    "]\n",
    "\n",
    "# Function to find synonyms using WordNet\n",
    "def find_synonyms(word):\n",
    "    synonyms = set()\n",
    "    for syn in wn.synsets(word):\n",
    "        for lemma in syn.lemmas():\n",
    "            synonyms.add(lemma.name())\n",
    "    return list(synonyms)\n",
    "\n",
    "# Get synonyms for each word in the list\n",
    "synonyms_dict = {word: find_synonyms(word) for word in words}\n",
    "\n",
    "synonyms_list = list(set(list(synonyms_dict.keys()) + sum(list(synonyms_dict.values()), [])))\n",
    "len(synonyms_list)"
   ]
  },
  {
   "cell_type": "code",
   "execution_count": null,
   "metadata": {},
   "outputs": [],
   "source": []
  }
 ],
 "metadata": {
  "kernelspec": {
   "display_name": "llm",
   "language": "python",
   "name": "python3"
  },
  "language_info": {
   "codemirror_mode": {
    "name": "ipython",
    "version": 3
   },
   "file_extension": ".py",
   "mimetype": "text/x-python",
   "name": "python",
   "nbconvert_exporter": "python",
   "pygments_lexer": "ipython3",
   "version": "3.11.7"
  }
 },
 "nbformat": 4,
 "nbformat_minor": 2
}
